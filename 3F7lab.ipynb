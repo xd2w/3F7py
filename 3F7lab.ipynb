{
 "cells": [
  {
   "cell_type": "markdown",
   "metadata": {},
   "source": [
    "# 3F7 Lab: CamZIP"
   ]
  },
  {
   "cell_type": "markdown",
   "metadata": {},
   "source": [
    "## Tree data structures"
   ]
  },
  {
   "cell_type": "markdown",
   "metadata": {},
   "source": [
    "Import all functions from the package trees where we put together a number of tools for handling trees in the 3F7 lab."
   ]
  },
  {
   "cell_type": "code",
   "execution_count": 3,
   "metadata": {},
   "outputs": [],
   "source": [
    "from trees import *\n",
    "import random "
   ]
  },
  {
   "cell_type": "markdown",
   "metadata": {},
   "source": [
    "Now define a simple tree (play around with this command and construct more complicated trees....)"
   ]
  },
  {
   "cell_type": "code",
   "execution_count": 4,
   "metadata": {},
   "outputs": [],
   "source": [
    "t = [-1,0,1,1,0]\n",
    "t = [-1, 0]\n",
    "for i in range(3):\n",
    "    t.extend([i+1]*(2**i))\n",
    "# t = [3,3,4,4,-1]"
   ]
  },
  {
   "cell_type": "markdown",
   "metadata": {},
   "source": [
    "The following command will print a string that can be copy-pasted into a tree visualising website like [phylo.io](https://phylo.io) (don't forget to add a new line at the end of the string after cutting and pasting)"
   ]
  },
  {
   "cell_type": "code",
   "execution_count": 5,
   "metadata": {},
   "outputs": [
    {
     "name": "stdout",
     "output_type": "stream",
     "text": [
      "((((1001,1002,1003,1004)1008,1000)1007)1006)1005\n",
      "Cut and paste the string on the previous line and add a \"new line\" at the end of the string.\n"
     ]
    }
   ],
   "source": [
    "print(tree2newick(t))\n",
    "print('Cut and paste the string on the previous line and add a \"new line\" at the end of the string.')"
   ]
  },
  {
   "cell_type": "markdown",
   "metadata": {},
   "source": [
    "You can also add labels to the nodes in the `tree2newick` command."
   ]
  },
  {
   "cell_type": "code",
   "execution_count": 6,
   "metadata": {},
   "outputs": [
    {
     "name": "stdout",
     "output_type": "stream",
     "text": [
      "((((child 0,grandchild 0,grandchild 1,child 1)1008,root)1007)1006)1005\n"
     ]
    }
   ],
   "source": [
    "print(tree2newick(t,['root', 'child 0', 'grandchild 0', 'grandchild 1', 'child 1']))"
   ]
  },
  {
   "cell_type": "markdown",
   "metadata": {},
   "source": [
    "If there are less labels than nodes, the labels will be interpreted \"leaves first\""
   ]
  },
  {
   "cell_type": "code",
   "execution_count": 7,
   "metadata": {},
   "outputs": [
    {
     "name": "stdout",
     "output_type": "stream",
     "text": [
      "((((symbol 1,symbol 2,1003,1004)1008,symbol 0)1007)1006)1005\n"
     ]
    }
   ],
   "source": [
    "print(tree2newick(t,['symbol 0','symbol 1', 'symbol 2']))"
   ]
  },
  {
   "cell_type": "markdown",
   "metadata": {},
   "source": [
    "The following command converts a variable-length code described by a tree to a code table format."
   ]
  },
  {
   "cell_type": "code",
   "execution_count": 8,
   "metadata": {
    "scrolled": true
   },
   "outputs": [
    {
     "name": "stdout",
     "output_type": "stream",
     "text": [
      "{'1000': [0, 0, 1], '1001': [0, 0, 0, 0], '1002': [0, 0, 0, 1], '1003': [0, 0, 0, 2], '1004': [0, 0, 0, 3]}\n"
     ]
    }
   ],
   "source": [
    "print(tree2code(t))"
   ]
  },
  {
   "cell_type": "markdown",
   "metadata": {},
   "source": [
    "Verify that the inverse function can recover the tree. "
   ]
  },
  {
   "cell_type": "code",
   "execution_count": 9,
   "metadata": {},
   "outputs": [
    {
     "name": "stdout",
     "output_type": "stream",
     "text": [
      "[-1, 0, 1, 2, 2, 4, 4, 4, 4]\n"
     ]
    }
   ],
   "source": [
    "print(code2tree(tree2code(t)))"
   ]
  },
  {
   "cell_type": "markdown",
   "metadata": {},
   "source": [
    "But the following may happen as well. Can you explain why?"
   ]
  },
  {
   "cell_type": "code",
   "execution_count": 10,
   "metadata": {},
   "outputs": [
    {
     "name": "stdout",
     "output_type": "stream",
     "text": [
      "[-1, 0, 1, 1, 0]\n"
     ]
    }
   ],
   "source": [
    "print(code2tree(tree2code([3,3,4,4,-1])))"
   ]
  },
  {
   "cell_type": "code",
   "execution_count": 11,
   "metadata": {},
   "outputs": [
    {
     "name": "stdout",
     "output_type": "stream",
     "text": [
      "(child 0,(grandchild 0,grandchild 1)child 1)root\n"
     ]
    }
   ],
   "source": [
    "print(tree2newick([3,3,4,4,-1], ['grandchild 0', 'grandchild 1', 'child 0', 'child 1', 'root']))"
   ]
  },
  {
   "cell_type": "markdown",
   "metadata": {},
   "source": [
    "Similarly but far more problematic is the following inversion. The resulting assignment of codeword to symbols is fundamentally different from the original and would result in wrong decoding."
   ]
  },
  {
   "cell_type": "code",
   "execution_count": 12,
   "metadata": {},
   "outputs": [
    {
     "name": "stdout",
     "output_type": "stream",
     "text": [
      "{'1000': [0], '1001': [1, 0], '1002': [1, 1, 0], '1003': [1, 1, 1]}\n"
     ]
    }
   ],
   "source": [
    "print(tree2code(code2tree({'0':[1], '1':[0,1], '2':[0,0,1], '3':[0,0,0]})))"
   ]
  },
  {
   "cell_type": "markdown",
   "metadata": {},
   "source": [
    "These problems are all solved when using the extended tree format."
   ]
  },
  {
   "cell_type": "code",
   "execution_count": 13,
   "metadata": {},
   "outputs": [
    {
     "name": "stdout",
     "output_type": "stream",
     "text": [
      "[[3, [], 'a'], [3, [], 'b'], [4, [], 'c'], [4, [0, 1], '1003'], [-1, [2, 3], '1004']]\n"
     ]
    }
   ],
   "source": [
    "xt = tree2xtree([3,3,4,4,-1], ['a', 'b', 'c'])\n",
    "print(xt)"
   ]
  },
  {
   "cell_type": "code",
   "execution_count": 14,
   "metadata": {},
   "outputs": [
    {
     "name": "stdout",
     "output_type": "stream",
     "text": [
      "{'0': [1], '1': [0, 1], '2': [0, 0, 1], '3': [0, 0, 0]}\n"
     ]
    }
   ],
   "source": [
    "print(xtree2code(code2xtree({'0':[1], '1':[0,1], '2':[0,0,1], '3':[0,0,0]})))"
   ]
  },
  {
   "cell_type": "markdown",
   "metadata": {},
   "source": [
    "## Testing your Shannon-Fano Code"
   ]
  },
  {
   "cell_type": "markdown",
   "metadata": {},
   "source": [
    "This next section can only be completed once you have a working Shannon-Fano function `shannon_fano()`"
   ]
  },
  {
   "cell_type": "code",
   "execution_count": 15,
   "metadata": {},
   "outputs": [
    {
     "name": "stdout",
     "output_type": "stream",
     "text": [
      "Probability distribution: {'a': 0.07762556147126713, 'b': 0.10206926812431184, 'c': 0.04719814776377317, 'd': 0.028386390636992158, 'e': 0.020046402530400284, 'f': 0.021300981922031628, 'g': 0.12693864830933918, 'h': 0.07103077930204872, 'i': 0.05123495167505336, 'j': 0.11234192224784743, 'k': 0.11096571512962884, 'l': 0.03166806366754848, 'm': 0.03576269938407016, 'n': 0.07106682872903182, 'o': 0.03805398717667542, 'p': 0.05430965192998062}\n",
      "\n",
      "Codebook: {'g': [0, 0, 0], 'j': [0, 0, 1, 0], 'k': [0, 0, 1, 1], 'b': [0, 1, 0, 1], 'a': [0, 1, 1, 1], 'n': [1, 0, 0, 0], 'h': [1, 0, 0, 1], 'p': [1, 0, 1, 0, 1], 'i': [1, 0, 1, 1, 1], 'c': [1, 1, 0, 0, 0], 'o': [1, 1, 0, 1, 0], 'm': [1, 1, 0, 1, 1], 'l': [1, 1, 1, 0, 0], 'd': [1, 1, 1, 0, 1, 1], 'f': [1, 1, 1, 1, 0, 1], 'e': [1, 1, 1, 1, 1, 0]}\n",
      "\n",
      "Cut and paste for phylo.io: (((g,(j,k)3)2,((b)5,(a)6)4)1,(((n,h)9,((p)11,(i)12)10)8,(((c)15,(o,m)16)14,((l,(d)19)18,((f)21,(e)22)20)17)13)7)0\n"
     ]
    }
   ],
   "source": [
    "from vl_codes import shannon_fano\n",
    "from random import random\n",
    "p = [random() for k in range(16)]\n",
    "p = dict([(chr(k+ord('a')),p[k]/sum(p)) for k in range(len(p))])\n",
    "print(f'Probability distribution: {p}\\n')\n",
    "c = shannon_fano(p)\n",
    "print(f'Codebook: {c}\\n')\n",
    "xt = code2xtree(c)\n",
    "print(f'Cut and paste for phylo.io: {xtree2newick(xt)}')"
   ]
  },
  {
   "cell_type": "markdown",
   "metadata": {},
   "source": [
    "We can upload data from a file, for example `hamlet.txt`, and display the first few lines..."
   ]
  },
  {
   "cell_type": "code",
   "execution_count": 16,
   "metadata": {},
   "outputs": [
    {
     "name": "stdout",
     "output_type": "stream",
     "text": [
      "        HAMLET\n",
      "\n",
      "\n",
      "        DRAMATIS PERSONAE\n",
      "\n",
      "\n",
      "CLAUDIUS        king of Denmark. (KING CLAUDIUS:)\n",
      "\n",
      "HAMLET  son to the late, and nephew to the present king.\n",
      "\n",
      "POLONIUS        lord chamberlain. (LORD POLONIUS:)\n",
      "\n",
      "HORATIO friend to Hamlet.\n",
      "\n",
      "LAERTES son to Polonius.\n",
      "\n",
      "LUCIANUS        nephew to the king.\n"
     ]
    }
   ],
   "source": [
    "f = open('hamlet.txt', 'r')\n",
    "hamlet = f.read()\n",
    "f.close()\n",
    "print(hamlet[:294])"
   ]
  },
  {
   "cell_type": "markdown",
   "metadata": {},
   "source": [
    "We now compute the startistics of the file:"
   ]
  },
  {
   "cell_type": "code",
   "execution_count": 17,
   "metadata": {},
   "outputs": [
    {
     "name": "stdout",
     "output_type": "stream",
     "text": [
      "File length: 207039\n"
     ]
    }
   ],
   "source": [
    "from itertools import groupby\n",
    "frequencies = dict([(key, len(list(group))) for key, group in groupby(sorted(hamlet))])\n",
    "Nin = sum([frequencies[a] for a in frequencies])\n",
    "p = dict([(a,frequencies[a]/Nin) for a in frequencies])\n",
    "print(f'File length: {Nin}')"
   ]
  },
  {
   "cell_type": "markdown",
   "metadata": {},
   "source": [
    "We can view the alphabet of symbols used in the file:"
   ]
  },
  {
   "cell_type": "code",
   "execution_count": 18,
   "metadata": {},
   "outputs": [
    {
     "name": "stdout",
     "output_type": "stream",
     "text": [
      "['\\n', ' ', '!', '&', \"'\", '(', ')', ',', '-', '.', ':', ';', '?', 'A', 'B', 'C', 'D', 'E', 'F', 'G', 'H', 'I', 'J', 'K', 'L', 'M', 'N', 'O', 'P', 'Q', 'R', 'S', 'T', 'U', 'V', 'W', 'Y', 'Z', '[', ']', 'a', 'b', 'c', 'd', 'e', 'f', 'g', 'h', 'i', 'j', 'k', 'l', 'm', 'n', 'o', 'p', 'q', 'r', 's', 't', 'u', 'v', 'w', 'x', 'y', 'z', '|']\n",
      "67\n"
     ]
    }
   ],
   "source": [
    "print(list(p))\n",
    "print(len(p))"
   ]
  },
  {
   "cell_type": "markdown",
   "metadata": {},
   "source": [
    "We are now ready to construct the Shannon-Fano code for this file, and view its tree (cut and paste into [phylo.io](https://phylo.io), don't forget to add a carriage return at the end, click on \"Branch Labels/Support\" under \"Settings\", then right-click on the root of the tree and select \"expand all\". "
   ]
  },
  {
   "cell_type": "code",
   "execution_count": 19,
   "metadata": {},
   "outputs": [
    {
     "name": "stdout",
     "output_type": "stream",
     "text": [
      "67\n",
      "166\n",
      "((space,((e,(t)4)3,((o)6,(a,s)7)5)2)1,((((n)11,(h,i)12)10,((r,(carriage return)15)14,((l)17,(d)18)16)13)9,((((u,m)22,(comma,(y)24)23)21,(((w)27,(f)28)26,((c,g)30,(p)31)29)25)20,(((((A)36,(b,T)37)35,((I)39,(E)40)38)34,(((.)43,(L)44)42,((v)46,(k,O)47)45)41)33,((((')51,(H,R)52)50,((N,(S)55)54,((U)57,(M)58)56)53)49,((((semi-colon,colon)62,(D)63)61,((C,G)65,(W,?)66)64)60,(((-,(P)70)69,((!)72,(left square bracket,right square bracket)73)71)68,(((B,F)76,((x,K)78)77)75,(((q)81,(Y,(j)83)82)80,(((Q)86,(Z)87)85,((z,(vertical bar)90)89,((V)92,((left parenthesis,right parenthesis)94,((J)96,((&)98)97)95)93)91)88)84)79)74)67)59)48)32)19)8)0\n",
      "16\n"
     ]
    }
   ],
   "source": [
    "c = shannon_fano(p)\n",
    "print(len(c))\n",
    "xt = code2xtree(c)\n",
    "print(len(xt))\n",
    "print(xtree2newick(xt))\n",
    "print(len(c['&']))"
   ]
  },
  {
   "cell_type": "markdown",
   "metadata": {},
   "source": [
    "Now we can actually encode the file `hamlet.txt` using the Shannon-Fano code we constructed."
   ]
  },
  {
   "cell_type": "code",
   "execution_count": 20,
   "metadata": {},
   "outputs": [
    {
     "name": "stdout",
     "output_type": "stream",
     "text": [
      "Length of binary sequence: 997548\n"
     ]
    }
   ],
   "source": [
    "from vl_codes import vl_encode\n",
    "hamlet_sf = vl_encode(hamlet, c)\n",
    "print(f'Length of binary sequence: {len(hamlet_sf)}')"
   ]
  },
  {
   "cell_type": "markdown",
   "metadata": {},
   "source": [
    "We have commands to convert a bit sequence into a byte sequence (including a 3 bit prefix that helps us determine the length of the bit sequence):"
   ]
  },
  {
   "cell_type": "code",
   "execution_count": 21,
   "metadata": {},
   "outputs": [
    {
     "name": "stdout",
     "output_type": "stream",
     "text": [
      "['01101000']\n",
      "The original bits are: [0, 1]\n",
      "[141, 128]\n"
     ]
    }
   ],
   "source": [
    "from vl_codes import bytes2bits, bits2bytes\n",
    "x = bits2bytes([0,1])\n",
    "print([format(a, '08b') for a in x])\n",
    "y = bytes2bits(x)\n",
    "print(f'The original bits are: {y}')\n",
    "print(bits2bytes([0,1,1,0,1,1,0,0,0]))"
   ]
  },
  {
   "cell_type": "markdown",
   "metadata": {},
   "source": [
    "We now apply the bits to byte conversion to the compressed text of Hamlet to compute the length of the compressed file."
   ]
  },
  {
   "cell_type": "code",
   "execution_count": 22,
   "metadata": {},
   "outputs": [
    {
     "name": "stdout",
     "output_type": "stream",
     "text": [
      "Length of compressed string: 124694\n"
     ]
    }
   ],
   "source": [
    "hamlet_zipped = bits2bytes(hamlet_sf)\n",
    "Nout = len(hamlet_zipped)\n",
    "print(f'Length of compressed string: {Nout}')"
   ]
  },
  {
   "cell_type": "markdown",
   "metadata": {},
   "source": [
    "The compression ratio can be expressed in two ways, unitless or in bits/bytes:"
   ]
  },
  {
   "cell_type": "code",
   "execution_count": 23,
   "metadata": {},
   "outputs": [
    {
     "name": "stdout",
     "output_type": "stream",
     "text": [
      "Compression ratio (rateless): 0.6022730017049928\n",
      "Compression ratio (bits per byte): 4.818184013639942\n"
     ]
    }
   ],
   "source": [
    "print(f'Compression ratio (rateless): {Nout/Nin}')\n",
    "print(f'Compression ratio (bits per byte): {8.0*Nout/Nin}')"
   ]
  },
  {
   "cell_type": "markdown",
   "metadata": {},
   "source": [
    "The lower bound for compression is the Entropy, measured in bits, that can be computed using an in-line function in Python:"
   ]
  },
  {
   "cell_type": "code",
   "execution_count": 24,
   "metadata": {},
   "outputs": [
    {
     "name": "stdout",
     "output_type": "stream",
     "text": [
      "Entropy: 4.449863631694343\n"
     ]
    }
   ],
   "source": [
    "from math import log2\n",
    "H = lambda pr: -sum([pr[a]*log2(pr[a]) for a in pr])\n",
    "print(f'Entropy: {H(p)}')"
   ]
  },
  {
   "cell_type": "markdown",
   "metadata": {},
   "source": [
    "We now proceed to decode the compressed Hamlet sequence"
   ]
  },
  {
   "cell_type": "code",
   "execution_count": 25,
   "metadata": {},
   "outputs": [
    {
     "name": "stdout",
     "output_type": "stream",
     "text": [
      "Length of unzipped file: 207039\n"
     ]
    }
   ],
   "source": [
    "from vl_codes import vl_decode\n",
    "xt = code2xtree(c)\n",
    "hamlet_unzipped = vl_decode(hamlet_sf, xt)\n",
    "print(f'Length of unzipped file: {len(hamlet_unzipped)}')"
   ]
  },
  {
   "cell_type": "markdown",
   "metadata": {},
   "source": [
    "We can view the first few lines of the input (note the command `join` that turns the list of strings into one string)"
   ]
  },
  {
   "cell_type": "code",
   "execution_count": 26,
   "metadata": {},
   "outputs": [
    {
     "name": "stdout",
     "output_type": "stream",
     "text": [
      "        HAMLET\n",
      "\n",
      "\n",
      "        DRAMATIS PERSONAE\n",
      "\n",
      "\n",
      "CLAUDIUS        king of Denmark. (KING CLAUDIUS:)\n",
      "\n",
      "HAMLET  son to the late, and nephew to the present king.\n",
      "\n",
      "POLONIUS        lord chamberlain. (LORD POLONIUS:)\n",
      "\n",
      "HORATIO friend to Hamlet.\n",
      "\n",
      "LAERTES son to Polonius.\n",
      "\n",
      "LUCIANUS        nephew to the king.\n"
     ]
    }
   ],
   "source": [
    "print(''.join(hamlet_unzipped[:294]))"
   ]
  },
  {
   "cell_type": "markdown",
   "metadata": {},
   "source": [
    "## Compressing and uncompressing files"
   ]
  },
  {
   "cell_type": "markdown",
   "metadata": {},
   "source": [
    "This is where we put it all together, compressing directly from input to output file. Play around with these commands once you implemented Huffman coding and arithmetic coding. We begin by importing the compression and decompression functions."
   ]
  },
  {
   "cell_type": "code",
   "execution_count": 27,
   "metadata": {},
   "outputs": [],
   "source": [
    "from camzip import camzip\n",
    "from camunzip import camunzip"
   ]
  },
  {
   "cell_type": "markdown",
   "metadata": {},
   "source": [
    "The next commands define the method to be used and the filename. Modify those when you are trying other methods on various files. "
   ]
  },
  {
   "cell_type": "code",
   "execution_count": 28,
   "metadata": {},
   "outputs": [],
   "source": [
    "method = 'shannon_fano'\n",
    "filename = 'hamlet.txt'"
   ]
  },
  {
   "cell_type": "markdown",
   "metadata": {},
   "source": [
    "Now we do the actual compression and decompression..."
   ]
  },
  {
   "cell_type": "code",
   "execution_count": 29,
   "metadata": {},
   "outputs": [],
   "source": [
    "camzip(method, filename)\n",
    "camunzip(filename + '.cz' + method[0])"
   ]
  },
  {
   "cell_type": "markdown",
   "metadata": {},
   "source": [
    "The next few lines perform various statistical measurements and verifies that the decompressed file is identical to the compressed file."
   ]
  },
  {
   "cell_type": "code",
   "execution_count": 30,
   "metadata": {},
   "outputs": [
    {
     "name": "stdout",
     "output_type": "stream",
     "text": [
      "Length of original file: 207039 bytes\n",
      "Length of compressed file: 124694 bytes\n",
      "Compression rate: 4.818184013639942 bits/byte\n",
      "Entropy: 4.449863631694343 bits per symbol\n",
      "The two files are the same\n"
     ]
    }
   ],
   "source": [
    "from filecmp import cmp\n",
    "from os import stat\n",
    "from json import load\n",
    "Nin = stat(filename).st_size\n",
    "print(f'Length of original file: {Nin} bytes')\n",
    "Nout = stat(filename + '.cz' + method[0]).st_size\n",
    "print(f'Length of compressed file: {Nout} bytes')\n",
    "print(f'Compression rate: {8.0*Nout/Nin} bits/byte')\n",
    "with open(filename + '.czp', 'r') as fp:\n",
    "    freq = load(fp)\n",
    "pf = dict([(a, freq[a]/Nin) for a in freq])\n",
    "print(f'Entropy: {H(pf)} bits per symbol')\n",
    "if cmp(filename,filename+'.cuz'):\n",
    "    print('The two files are the same')\n",
    "else:\n",
    "    print('The files are different')"
   ]
  },
  {
   "cell_type": "markdown",
   "metadata": {},
   "source": [
    "## Huffman coding"
   ]
  },
  {
   "cell_type": "markdown",
   "metadata": {},
   "source": [
    "This section will only work once you have a working function `huffman()`. We first repeat the tree construction and visualisation."
   ]
  },
  {
   "cell_type": "code",
   "execution_count": 31,
   "metadata": {},
   "outputs": [
    {
     "name": "stdout",
     "output_type": "stream",
     "text": [
      "{'\\n': 0.029197397591758073, ' ': 0.2731417752210936, '!': 0.0014538323697467627, '&': 2.4150039364564164e-05, \"'\": 0.0046657876052337965, '(': 7.728012596660533e-05, ')': 7.728012596660533e-05, ',': 0.015852085838899917, '-': 0.0020382633223692153, '.': 0.0062886702505325085, ':': 0.0026661643458478837, ';': 0.0028110645820352688, '?': 0.0020672433696066923, 'A': 0.007732842604533445, 'B': 0.0011688619052449055, 'C': 0.0023425538183627238, 'D': 0.002511604093914673, 'E': 0.00710977158892769, 'F': 0.0011205618265157772, 'G': 0.002130033471954559, 'H': 0.0046078275107588424, 'I': 0.0074140620849211985, 'J': 4.3470070856215496e-05, 'K': 0.0006423910470974068, 'L': 0.005752539376639184, 'M': 0.0030863750307913, 'N': 0.004071696636865518, 'O': 0.005201918479127121, 'P': 0.001477982409111327, 'Q': 0.0004685107636725448, 'R': 0.00434700708562155, 'S': 0.003815706219601138, 'T': 0.007525152265998193, 'U': 0.0032216152512328593, 'V': 0.0001932003149165133, 'W': 0.0021252034640816464, 'Y': 0.000521640850274586, 'Z': 0.0003381005511038983, '[': 0.001183351928863644, ']': 0.001183351928863644, 'a': 0.042277058911606026, 'b': 0.007636242447075189, 'c': 0.011553378832007495, 'd': 0.02361390849067084, 'e': 0.06995783403126947, 'f': 0.012065359666536256, 'g': 0.010002946304802477, 'h': 0.03735528088910785, 'i': 0.03595457860596313, 'j': 0.0004878307951641961, 'k': 0.00547239892001024, 'l': 0.02591299223817735, 'm': 0.01759571868102145, 'n': 0.037683721424465924, 'o': 0.050444602224701623, 'p': 0.008317273557155898, 'q': 0.0005989209762411913, 'r': 0.035128647259695035, 's': 0.038417882621148675, 't': 0.05306246649182038, 'u': 0.019774052231705138, 'v': 0.005747709368766271, 'w': 0.012949251107279305, 'x': 0.0008549113935055714, 'y': 0.014958534382411043, 'z': 0.00024633040151855447, '|': 0.000231840377899816}\n",
      "[[115, [], '\\n'], [131, [], ' '], [80, [], '!'], [67, [], '&'], [93, [], \"'\"], [68, [], '('], [69, [], ')'], [109, [], ','], [82, [], '-'], [97, [], '.'], [86, [], ':'], [87, [], ';'], [83, [], '?'], [100, [], 'A'], [78, [], 'B'], [85, [], 'C'], [86, [], 'D'], [98, [], 'E'], [78, [], 'F'], [84, [], 'G'], [92, [], 'H'], [99, [], 'I'], [67, [], 'J'], [75, [], 'K'], [96, [], 'L'], [88, [], 'M'], [90, [], 'N'], [94, [], 'O'], [81, [], 'P'], [73, [], 'Q'], [91, [], 'R'], [89, [], 'S'], [99, [], 'T'], [89, [], 'U'], [70, [], 'V'], [83, [], 'W'], [74, [], 'Y'], [72, [], 'Z'], [79, [], '['], [79, [], ']'], [121, [], 'a'], [100, [], 'b'], [105, [], 'c'], [113, [], 'd'], [125, [], 'e'], [106, [], 'f'], [103, [], 'g'], [119, [], 'h'], [118, [], 'i'], [74, [], 'j'], [95, [], 'k'], [114, [], 'l'], [111, [], 'm'], [119, [], 'n'], [122, [], 'o'], [101, [], 'p'], [75, [], 'q'], [117, [], 'r'], [120, [], 's'], [123, [], 't'], [112, [], 'u'], [96, [], 'v'], [107, [], 'w'], [76, [], 'x'], [108, [], 'y'], [71, [], 'z'], [71, [], '|'], [68, [3, 22], '67'], [69, [67, 5], '68'], [70, [6, 68], '69'], [72, [34, 69], '70'], [73, [66, 65], '71'], [76, [37, 70], '72'], [77, [29, 71], '73'], [77, [49, 36], '74'], [80, [56, 23], '75'], [81, [72, 63], '76'], [82, [73, 74], '77'], [84, [18, 14], '78'], [85, [38, 39], '79'], [87, [75, 2], '80'], [88, [28, 76], '81'], [90, [77, 8], '82'], [91, [12, 35], '83'], [92, [19, 78], '84'], [93, [15, 79], '85'], [94, [16, 10], '86'], [95, [80, 11], '87'], [97, [25, 81], '88'], [98, [33, 31], '89'], [101, [82, 26], '90'], [102, [83, 30], '91'], [102, [84, 20], '92'], [103, [4, 85], '93'], [104, [86, 27], '94'], [104, [50, 87], '95'], [105, [61, 24], '96'], [106, [88, 9], '97'], [107, [89, 17], '98'], [108, [21, 32], '99'], [109, [41, 13], '100'], [110, [90, 55], '101'], [110, [91, 92], '102'], [111, [93, 46], '103'], [112, [94, 95], '104'], [113, [96, 42], '105'], [114, [45, 97], '106'], [115, [62, 98], '107'], [116, [99, 64], '108'], [116, [100, 7], '109'], [117, [101, 102], '110'], [118, [52, 103], '111'], [120, [60, 104], '112'], [121, [105, 43], '113'], [122, [106, 51], '114'], [123, [107, 0], '115'], [124, [108, 109], '116'], [124, [110, 57], '117'], [125, [48, 111], '118'], [126, [47, 53], '119'], [126, [58, 112], '120'], [127, [40, 113], '121'], [127, [114, 54], '122'], [128, [59, 115], '123'], [128, [116, 117], '124'], [129, [44, 118], '125'], [129, [119, 120], '126'], [130, [121, 122], '127'], [130, [123, 124], '128'], [131, [125, 126], '129'], [132, [127, 128], '130'], [132, [1, 129], '131'], [-1, [130, 131], '132']]\n",
      "((((a,(((v,L)96,c)105,d)113)121,(((f,((M,(P,((Z,(V,(right parenthesis,((&,J)67,left parenthesis)68)69)70)72,x)76)81)88,.)97)106,l)114,o)122)127,((t,((w,((U,S)89,E)98)107,carriage return)115)123,((((I,T)99,y)108,((b,A)100,comma)109)116,(((((((Q,(vertical bar,z)71)73,(j,Y)74)77,-)82,N)90,p)101,(((?,W)83,R)91,((G,(F,B)78)84,H)92)102)110,r)117)124)128)130,(space,((e,(i,(m,((',(C,(left square bracket,right square bracket)79)85)93,g)103)111)118)125,((h,n)119,(s,(u,(((D,colon)86,O)94,(k,(((q,K)75,!)80,semi-colon)87)95)104)112)120)126)129)131)132\n"
     ]
    }
   ],
   "source": [
    "from vl_codes import huffman\n",
    "print(p)\n",
    "xt = huffman(p)\n",
    "print(xt)\n",
    "print(xtree2newick(xt))"
   ]
  },
  {
   "cell_type": "code",
   "execution_count": 32,
   "metadata": {},
   "outputs": [
    {
     "data": {
      "text/plain": [
       "{'a': [0], 'b': [1, 1, 1], 'c': [1, 0], 'd': [1, 1, 0]}"
      ]
     },
     "execution_count": 32,
     "metadata": {},
     "output_type": "execute_result"
    }
   ],
   "source": [
    "xtree2code(huffman({'a':.5, 'b':.25, 'c':.25, 'd':0}))"
   ]
  },
  {
   "cell_type": "markdown",
   "metadata": {},
   "source": [
    "Observe how the Huffman tree differs from the Shannon-Fano tree. What are its shortest and its longest codeword? You can use the `camzip` code above changing the method to `'huffman'` to test the compression rate etc. You may also want to do it by hand to test the error resilience:"
   ]
  },
  {
   "cell_type": "code",
   "execution_count": 33,
   "metadata": {},
   "outputs": [
    {
     "name": "stdout",
     "output_type": "stream",
     "text": [
      "        HAMLET\n",
      "\n",
      "\n",
      "        DRAMATIS PERSONAE\n",
      "\n",
      "\n",
      "CLAUDIUS        king of Denmark. (KING CLAUDIUS:)\n",
      "\n",
      "HAMLET  son to the late, and nephew to the present king.\n",
      "\n",
      "POLONIUS        lord chamberlain. (LORD POLONIUS:)\n",
      "\n",
      "HORATIO friend to Hamlet.\n",
      "\n",
      "LAERTES son to Polonius.\n",
      "\n",
      "LUCIANUS        nephew to the king.\n"
     ]
    }
   ],
   "source": [
    "c = xtree2code(xt)\n",
    "hamlet_huf = vl_encode(hamlet, c)\n",
    "hamlet_decoded = vl_decode(hamlet_huf, xt)\n",
    "print(''.join(hamlet_decoded[:294]))"
   ]
  },
  {
   "cell_type": "markdown",
   "metadata": {},
   "source": [
    "We now introduce a random bit flip (bit 400 flipped) in the compressed sequence and observe the result."
   ]
  },
  {
   "cell_type": "code",
   "execution_count": 34,
   "metadata": {},
   "outputs": [
    {
     "name": "stdout",
     "output_type": "stream",
     "text": [
      "        HAMLET\n",
      "\n",
      "\n",
      "        DRAMATIS PERSONAE\n",
      "\n",
      "\n",
      "CLAUDIUS        king of Denmark. y,; \n",
      "aNG CLAUDIUS:)\n",
      "\n",
      "HAMLET  son to the late, and nephew to the present king.\n",
      "\n",
      "POLONIUS        lord chamberlain. (LORD POLONIUS:)\n",
      "\n",
      "HORATIO friend to Hamlet.\n",
      "\n",
      "LAERTES son to Polonius.\n",
      "\n",
      "LUCIANUS        nephew to the king.\n"
     ]
    }
   ],
   "source": [
    "hamlet_corrupted = hamlet_huf.copy()\n",
    "hamlet_corrupted[400] ^= 1\n",
    "hamlet_decoded = vl_decode(hamlet_corrupted, xt)\n",
    "print(''.join(hamlet_decoded[:297]))"
   ]
  },
  {
   "cell_type": "markdown",
   "metadata": {},
   "source": [
    "## Arithmetic coding"
   ]
  },
  {
   "cell_type": "markdown",
   "metadata": {},
   "source": [
    "We first try \"by hand\" to operate the steps of arithmetic coding using floating point numbers. We first compute the cumulative probability distribution."
   ]
  },
  {
   "cell_type": "code",
   "execution_count": 35,
   "metadata": {},
   "outputs": [],
   "source": [
    "f = [0.0]\n",
    "for a in p:\n",
    "    f.append(f[-1]+p[a])\n",
    "f.pop()\n",
    "f = dict([(a,f[k]) for a,k in zip(p,range(len(p)))])"
   ]
  },
  {
   "cell_type": "markdown",
   "metadata": {},
   "source": [
    "We now perform by hand the first `n=4` steps of arithmetic coding. Vary `n` to observe the loss of precision. "
   ]
  },
  {
   "cell_type": "code",
   "execution_count": 36,
   "metadata": {},
   "outputs": [
    {
     "name": "stdout",
     "output_type": "stream",
     "text": [
      "lo = 0.04017941244438135, hi = 0.04017941244438135, hi-lo = 0.0\n"
     ]
    }
   ],
   "source": [
    "lo, hi = 0.0, 1.0\n",
    "n = 500\n",
    "for k in range(n):\n",
    "    a = hamlet[k]\n",
    "    lohi_range = hi - lo\n",
    "    hi = lo + lohi_range * (f[a] + p[a])\n",
    "    lo = lo + lohi_range * f[a]\n",
    "print(f'lo = {lo}, hi = {hi}, hi-lo = {hi-lo}')"
   ]
  },
  {
   "cell_type": "markdown",
   "metadata": {},
   "source": [
    "The output sequence is roughly the binary expression of `lo` (not exactly) and we can compute and observe it. What length `ell` would we need when encoding all of Hamlet?"
   ]
  },
  {
   "cell_type": "code",
   "execution_count": 37,
   "metadata": {},
   "outputs": [
    {
     "name": "stdout",
     "output_type": "stream",
     "text": [
      "0b10100100100100110010101011100110101111001110000101010000000000000000000000000000000000000000\n"
     ]
    }
   ],
   "source": [
    "from math import floor, ceil\n",
    "ell = ceil(-log2(hi-lo))+2 if hi-lo > 0.0 else 96\n",
    "print(bin(floor(lo*2**ell)))"
   ]
  },
  {
   "cell_type": "markdown",
   "metadata": {},
   "source": [
    "We encode and decode Hamlet again using arithmetic coding and verify that the first few lines of the play look as expected."
   ]
  },
  {
   "cell_type": "code",
   "execution_count": 38,
   "metadata": {},
   "outputs": [
    {
     "name": "stdout",
     "output_type": "stream",
     "text": [
      "Arithmetic decoded 99%    \n",
      "        HAMLET\n",
      "\n",
      "\n",
      "        DRAMATIS PERSONAE\n",
      "\n",
      "\n",
      "CLAUDIUS        king of Denmark. (KING CLAUDIUS:)\n",
      "\n",
      "HAMLET  son to the late, and nephew to the present king.\n",
      "\n",
      "POLONIUS        lord chamberlain. (LORD POLONIUS:)\n",
      "\n",
      "HORATIO friend to Hamlet.\n",
      "\n",
      "LAERTES son to Polonius.\n",
      "\n",
      "LUCIANUS        nephew to the king.\n"
     ]
    }
   ],
   "source": [
    "import arithmetic as arith\n",
    "arith_encoded = arith.encode(hamlet, p)\n",
    "arith_decoded = arith.decode(arith_encoded, p, Nin)\n",
    "print('\\n'+''.join(arith_decoded[:294]))"
   ]
  },
  {
   "cell_type": "markdown",
   "metadata": {},
   "source": [
    "We now repeat the steps above but introduce a one bit mistake (bit 399 flipped) and observe the effect on the decoded text. Repeat this experiment varying the location of the mistake or adding more than one mistake. What do you observe? Can you explain why?"
   ]
  },
  {
   "cell_type": "code",
   "execution_count": 39,
   "metadata": {},
   "outputs": [
    {
     "name": "stdout",
     "output_type": "stream",
     "text": [
      "Arithmetic decoded 99%    \n",
      "        HAMLET\n",
      "\n",
      "\n",
      "        DRAMATIS PERSONAE\n",
      "\n",
      "\n",
      "CLAUDIUS        king of Denmark. I he   soeoW  Llon,o gn swt  s  .em urlo agdehnainf ts \n",
      "  aele \n",
      " Nhhyr  a  Sh.ath rue oetantoboso nsiiho- eArpIntn      yd  qtr ayeth soon  he hh? Sesct aT  hLoT e n   Hysst \n",
      "o a gw sf  et deLtlucEir on  en  tawfiui \n"
     ]
    }
   ],
   "source": [
    "arith_corrupted = arith_encoded.copy()\n",
    "arith_corrupted[399] ^= 1\n",
    "arith_decoded = arith.decode(arith_corrupted, p, Nin)\n",
    "print('\\n'+''.join(arith_decoded[:294]))"
   ]
  },
  {
   "cell_type": "code",
   "execution_count": 40,
   "metadata": {},
   "outputs": [
    {
     "data": {
      "text/plain": [
       "'(((5,6)3,(7)4)1,(8)2)0'"
      ]
     },
     "execution_count": 40,
     "metadata": {},
     "output_type": "execute_result"
    }
   ],
   "source": [
    "xtree2newick(tree2xtree([-1,0,0,1,1,3,3,4,2]),[str(chr(a+ord('0'))) for a in range(9)])"
   ]
  }
 ],
 "metadata": {
  "kernelspec": {
   "display_name": "Python 3",
   "language": "python",
   "name": "python3"
  },
  "language_info": {
   "codemirror_mode": {
    "name": "ipython",
    "version": 3
   },
   "file_extension": ".py",
   "mimetype": "text/x-python",
   "name": "python",
   "nbconvert_exporter": "python",
   "pygments_lexer": "ipython3",
   "version": "3.8.3"
  }
 },
 "nbformat": 4,
 "nbformat_minor": 2
}
